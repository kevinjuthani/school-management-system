{
 "cells": [
  {
   "cell_type": "code",
   "execution_count": 38,
   "id": "armed-english",
   "metadata": {},
   "outputs": [],
   "source": [
    "import mysql.connector\n",
    "import webbrowser\n",
    "import matplotlib.pyplot as plt\n",
    "import mpld3\n",
    "import nltk"
   ]
  },
  {
   "cell_type": "code",
   "execution_count": 73,
   "id": "complete-mercury",
   "metadata": {},
   "outputs": [
    {
     "name": "stdout",
     "output_type": "stream",
     "text": [
      "Connected Successfully\n"
     ]
    }
   ],
   "source": [
    "conn = mysql.connector.connect(user='root', password='pass1234',host='localhost',database='projectdb',auth_plugin='mysql_native_password')\n",
    "\n",
    "if conn:\n",
    "    print (\"Connected Successfully\")\n",
    "else:\n",
    "    print (\"Connection Not Established\")"
   ]
  },
  {
   "cell_type": "code",
   "execution_count": 74,
   "id": "necessary-peninsula",
   "metadata": {},
   "outputs": [
    {
     "name": "stdout",
     "output_type": "stream",
     "text": [
      "4\n",
      "[('Very good performance', 'ACC-1', 18), ('Can do better', 'ECO-3', 14), ('Bad', 'MATHS-2', 5)]\n",
      "['ACC-1', 'ECO-3', 'MATHS-2']\n",
      "[18, 14, 5]\n",
      "['Very good performance', 'Can do better', 'Bad']\n"
     ]
    }
   ],
   "source": [
    "n = input()\n",
    "statement = \"SELECT remarks,assignment_id,marks_obtained FROM student_marks WHERE student_id = \"+n\n",
    "cursor = conn.cursor()\n",
    "cursor.execute(statement)\n",
    "result = cursor.fetchall()\n",
    "assignment=[]\n",
    "marks=[]\n",
    "remarks=[]\n",
    "print(result)\n",
    "for i in result:\n",
    "    i = list(i)\n",
    "    assignment.append(i[1])\n",
    "    marks.append(int(i[2]))\n",
    "    remarks.append(i[0])\n",
    "print(assignment)\n",
    "print(marks)\n",
    "print(remarks)\n"
   ]
  },
  {
   "cell_type": "code",
   "execution_count": 75,
   "id": "outer-stevens",
   "metadata": {},
   "outputs": [
    {
     "name": "stdout",
     "output_type": "stream",
     "text": [
      "Very good performance\n",
      "Can do better\n",
      "Bad\n",
      "[0.4927, 0.4404, -0.5423]\n",
      "{'Positive': 2, 'Negative': 1}\n"
     ]
    },
    {
     "name": "stderr",
     "output_type": "stream",
     "text": [
      "[nltk_data] Downloading package vader_lexicon to\n",
      "[nltk_data]     C:\\Users\\Meghna\\AppData\\Roaming\\nltk_data...\n",
      "[nltk_data]   Package vader_lexicon is already up-to-date!\n"
     ]
    }
   ],
   "source": [
    "nltk.download('vader_lexicon')\n",
    "from nltk.sentiment.vader import SentimentIntensityAnalyzer\n",
    "scores=[]\n",
    "sentiment={}\n",
    "positive=0\n",
    "negative=0\n",
    "vader = SentimentIntensityAnalyzer()\n",
    "for i in remarks:\n",
    "    print(i)\n",
    "    scores.append(vader.polarity_scores(i)['compound'])\n",
    "print(scores)\n",
    "for i in scores:\n",
    "    if i>=0:\n",
    "        positive+=1\n",
    "    else:\n",
    "        negative+=1\n",
    "sentiment['Positive'] = positive\n",
    "sentiment['Negative'] = negative\n",
    "print(sentiment)"
   ]
  },
  {
   "cell_type": "code",
   "execution_count": 76,
   "id": "thorough-renewal",
   "metadata": {},
   "outputs": [
    {
     "data": {
      "image/png": "[encoded data removed]",
      "text/plain": [
       "<Figure size 432x288 with 1 Axes>"
      ]
     },
     "metadata": {},
     "output_type": "display_data"
    }
   ],
   "source": [
    "fig1 = plt.figure()\n",
    "ax1 = fig1.add_axes([0,0,1,1])\n",
    "ax1.pie(sentiment.values(), labels = sentiment.keys(),autopct='%1.2f%%')\n",
    "ax1.axis('equal')\n",
    "plt.show()"
   ]
  },
  {
   "cell_type": "code",
   "execution_count": 82,
   "id": "periodic-chocolate",
   "metadata": {},
   "outputs": [
    {
     "data": {
      "image/png": "[encoded data removed]",
      "text/plain": [
       "<Figure size 432x288 with 1 Axes>"
      ]
     },
     "metadata": {
      "needs_background": "light"
     },
     "output_type": "display_data"
    }
   ],
   "source": [
    "fig = plt.figure()\n",
    "ax = fig.add_axes([0.5,0.5,0.5,0.5])\n",
    "ax.bar(assignment,marks,width=0.20)\n",
    "plt.show()"
   ]
  },
  {
   "cell_type": "code",
   "execution_count": 83,
   "id": "passive-albany",
   "metadata": {},
   "outputs": [],
   "source": [
    "#mpld3.save_html(fig,'fig.html')\n",
    "#mpld3.fig_to_html(fig,template_type=\"simple\")\n",
    "fig.savefig('bar.png')\n",
    "fig1.savefig('pie.png')\n",
    "#mpld3.display()"
   ]
  },
  {
   "cell_type": "code",
   "execution_count": null,
   "id": "animated-breast",
   "metadata": {},
   "outputs": [],
   "source": []
  }
 ],
 "metadata": {
  "kernelspec": {
   "display_name": "Python 3",
   "language": "python",
   "name": "python3"
  },
  "language_info": {
   "codemirror_mode": {
    "name": "ipython",
    "version": 3
   },
   "file_extension": ".py",
   "mimetype": "text/x-python",
   "name": "python",
   "nbconvert_exporter": "python",
   "pygments_lexer": "ipython3",
   "version": "3.8.5"
  }
 },
 "nbformat": 4,
 "nbformat_minor": 5
}
